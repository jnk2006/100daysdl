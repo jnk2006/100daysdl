{
  "nbformat": 4,
  "nbformat_minor": 0,
  "metadata": {
    "colab": {
      "name": "Day 22: Fashion MNIST optimizers.ipynb",
      "provenance": [],
      "collapsed_sections": [],
      "toc_visible": true
    },
    "kernelspec": {
      "name": "python3",
      "display_name": "Python 3"
    }
  },
  "cells": [
    {
      "cell_type": "code",
      "metadata": {
        "id": "fO6bBFMo5ftl",
        "colab_type": "code",
        "colab": {
          "base_uri": "https://localhost:8080/",
          "height": 35
        },
        "outputId": "b03e0e37-edb0-480f-cd16-f98b065b0bb0"
      },
      "source": [
        "# TensorFlow and tf.keras\n",
        "import tensorflow as tf\n",
        "from tensorflow import keras\n",
        "\n",
        "# Helper libraries\n",
        "import numpy as np\n",
        "import matplotlib.pyplot as plt\n",
        "\n",
        "print(tf.__version__)"
      ],
      "execution_count": 1,
      "outputs": [
        {
          "output_type": "stream",
          "text": [
            "2.3.0\n"
          ],
          "name": "stdout"
        }
      ]
    },
    {
      "cell_type": "markdown",
      "metadata": {
        "id": "Kj6T8hd97DcD",
        "colab_type": "text"
      },
      "source": [
        "## 1. Import fashion mnist data"
      ]
    },
    {
      "cell_type": "code",
      "metadata": {
        "id": "IutIEpMu6UPC",
        "colab_type": "code",
        "colab": {
          "base_uri": "https://localhost:8080/",
          "height": 156
        },
        "outputId": "65f92b18-0769-4e8f-81f8-d7dce236deee"
      },
      "source": [
        "fashion_mnist = keras.datasets.fashion_mnist\n",
        "\n",
        "(train_images, train_labels), (test_images, test_labels) = fashion_mnist.load_data()"
      ],
      "execution_count": 2,
      "outputs": [
        {
          "output_type": "stream",
          "text": [
            "Downloading data from https://storage.googleapis.com/tensorflow/tf-keras-datasets/train-labels-idx1-ubyte.gz\n",
            "32768/29515 [=================================] - 0s 0us/step\n",
            "Downloading data from https://storage.googleapis.com/tensorflow/tf-keras-datasets/train-images-idx3-ubyte.gz\n",
            "26427392/26421880 [==============================] - 0s 0us/step\n",
            "Downloading data from https://storage.googleapis.com/tensorflow/tf-keras-datasets/t10k-labels-idx1-ubyte.gz\n",
            "8192/5148 [===============================================] - 0s 0us/step\n",
            "Downloading data from https://storage.googleapis.com/tensorflow/tf-keras-datasets/t10k-images-idx3-ubyte.gz\n",
            "4423680/4422102 [==============================] - 0s 0us/step\n"
          ],
          "name": "stdout"
        }
      ]
    },
    {
      "cell_type": "code",
      "metadata": {
        "id": "wiuihEjV6ZVk",
        "colab_type": "code",
        "colab": {}
      },
      "source": [
        "class_names = ['T-shirt/top', 'Trouser', 'Pullover', 'Dress', 'Coat',\n",
        "               'Sandal', 'Shirt', 'Sneaker', 'Bag', 'Ankle boot']"
      ],
      "execution_count": 3,
      "outputs": []
    },
    {
      "cell_type": "markdown",
      "metadata": {
        "id": "L5yT9Miv7I8Q",
        "colab_type": "text"
      },
      "source": [
        "## 2. Explore the data"
      ]
    },
    {
      "cell_type": "code",
      "metadata": {
        "id": "j6fwK_rH6kda",
        "colab_type": "code",
        "colab": {
          "base_uri": "https://localhost:8080/",
          "height": 35
        },
        "outputId": "f52015de-dbf9-4f9f-858f-3cac4bc2641d"
      },
      "source": [
        "train_images.shape  #60,000 images with each image having 28 X 28 pixels"
      ],
      "execution_count": 4,
      "outputs": [
        {
          "output_type": "execute_result",
          "data": {
            "text/plain": [
              "(60000, 28, 28)"
            ]
          },
          "metadata": {
            "tags": []
          },
          "execution_count": 4
        }
      ]
    },
    {
      "cell_type": "code",
      "metadata": {
        "id": "Ae2Dfb1M6nez",
        "colab_type": "code",
        "colab": {
          "base_uri": "https://localhost:8080/",
          "height": 35
        },
        "outputId": "169a0eed-b1f1-4844-db65-06074800c94c"
      },
      "source": [
        "len(train_labels)"
      ],
      "execution_count": 5,
      "outputs": [
        {
          "output_type": "execute_result",
          "data": {
            "text/plain": [
              "60000"
            ]
          },
          "metadata": {
            "tags": []
          },
          "execution_count": 5
        }
      ]
    },
    {
      "cell_type": "code",
      "metadata": {
        "id": "8VoWmb7a6q2f",
        "colab_type": "code",
        "colab": {
          "base_uri": "https://localhost:8080/",
          "height": 35
        },
        "outputId": "8df50c10-86da-480a-dc71-27e478bfb2b0"
      },
      "source": [
        "train_labels"
      ],
      "execution_count": 6,
      "outputs": [
        {
          "output_type": "execute_result",
          "data": {
            "text/plain": [
              "array([9, 0, 0, ..., 3, 0, 5], dtype=uint8)"
            ]
          },
          "metadata": {
            "tags": []
          },
          "execution_count": 6
        }
      ]
    },
    {
      "cell_type": "code",
      "metadata": {
        "id": "rzr7qyvL60AK",
        "colab_type": "code",
        "colab": {
          "base_uri": "https://localhost:8080/",
          "height": 35
        },
        "outputId": "0d1952ad-8521-4173-da55-869ce92bba99"
      },
      "source": [
        "test_images.shape   #10,000 images with each image having 28 x 28 pixel"
      ],
      "execution_count": 7,
      "outputs": [
        {
          "output_type": "execute_result",
          "data": {
            "text/plain": [
              "(10000, 28, 28)"
            ]
          },
          "metadata": {
            "tags": []
          },
          "execution_count": 7
        }
      ]
    },
    {
      "cell_type": "code",
      "metadata": {
        "id": "mKH7V1s6647H",
        "colab_type": "code",
        "colab": {
          "base_uri": "https://localhost:8080/",
          "height": 35
        },
        "outputId": "5d445d49-5c7e-4a8f-83b0-6999e27d3ecd"
      },
      "source": [
        "len(test_labels)"
      ],
      "execution_count": 8,
      "outputs": [
        {
          "output_type": "execute_result",
          "data": {
            "text/plain": [
              "10000"
            ]
          },
          "metadata": {
            "tags": []
          },
          "execution_count": 8
        }
      ]
    },
    {
      "cell_type": "markdown",
      "metadata": {
        "id": "7c2CJCgW7LTS",
        "colab_type": "text"
      },
      "source": [
        "## 3. Preprocess the data"
      ]
    },
    {
      "cell_type": "code",
      "metadata": {
        "id": "gIcJ5DG37M-2",
        "colab_type": "code",
        "colab": {
          "base_uri": "https://localhost:8080/",
          "height": 265
        },
        "outputId": "027d4bad-b52a-4f36-9063-f4a291023a1f"
      },
      "source": [
        "plt.figure()\n",
        "plt.imshow(train_images[0])\n",
        "plt.colorbar()\n",
        "plt.grid(False)\n",
        "plt.show()"
      ],
      "execution_count": 9,
      "outputs": [
        {
          "output_type": "display_data",
          "data": {
            "image/png": "[encoded data removed]",
            "text/plain": [
              "<Figure size 432x288 with 2 Axes>"
            ]
          },
          "metadata": {
            "tags": [],
            "needs_background": "light"
          }
        }
      ]
    },
    {
      "cell_type": "code",
      "metadata": {
        "id": "0hUUys_96-Sn",
        "colab_type": "code",
        "colab": {}
      },
      "source": [
        "#Preprocess the images\n",
        "train_images = train_images / 255.0\n",
        "\n",
        "test_images = test_images / 255.0"
      ],
      "execution_count": 10,
      "outputs": []
    },
    {
      "cell_type": "code",
      "metadata": {
        "id": "oQSKqEq47ant",
        "colab_type": "code",
        "colab": {
          "base_uri": "https://localhost:8080/",
          "height": 589
        },
        "outputId": "5651e525-357c-48ed-b99f-0bc3dffde042"
      },
      "source": [
        "#Display the first 25 images from training set\n",
        "plt.figure(figsize=(10,10))\n",
        "for i in range(25):\n",
        "    plt.subplot(5,5,i+1)\n",
        "    plt.xticks([])\n",
        "    plt.yticks([])\n",
        "    plt.grid(False)\n",
        "    plt.imshow(train_images[i], cmap=plt.cm.binary)\n",
        "    plt.xlabel(class_names[train_labels[i]])\n",
        "plt.show()"
      ],
      "execution_count": 11,
      "outputs": [
        {
          "output_type": "display_data",
          "data": {
            "image/png": "[encoded data removed]",
            "text/plain": [
              "<Figure size 720x720 with 25 Axes>"
            ]
          },
          "metadata": {
            "tags": []
          }
        }
      ]
    },
    {
      "cell_type": "code",
      "metadata": {
        "id": "aIvp5I037p3U",
        "colab_type": "code",
        "colab": {
          "base_uri": "https://localhost:8080/",
          "height": 589
        },
        "outputId": "544b9a1a-10dd-443a-9419-0acf31be76c8"
      },
      "source": [
        "#Display first 25 images from testing set\n",
        "plt.figure(figsize=(10,10))\n",
        "for i in range(25):\n",
        "    plt.subplot(5,5,i+1)\n",
        "    plt.xticks([])\n",
        "    plt.yticks([])\n",
        "    plt.grid(False)\n",
        "    plt.imshow(test_images[i], cmap=plt.cm.binary)\n",
        "    plt.xlabel(class_names[test_labels[i]])\n",
        "plt.show()"
      ],
      "execution_count": 12,
      "outputs": [
        {
          "output_type": "display_data",
          "data": {
            "image/png": "[encoded data removed]",
            "text/plain": [
              "<Figure size 720x720 with 25 Axes>"
            ]
          },
          "metadata": {
            "tags": []
          }
        }
      ]
    },
    {
      "cell_type": "markdown",
      "metadata": {
        "id": "amf96OlN73oI",
        "colab_type": "text"
      },
      "source": [
        "## 4. Build the model"
      ]
    },
    {
      "cell_type": "markdown",
      "metadata": {
        "id": "ijWzDT6Z789b",
        "colab_type": "text"
      },
      "source": [
        "#### 4.1 Set up the layers"
      ]
    },
    {
      "cell_type": "code",
      "metadata": {
        "id": "cxK1Tnmt7-gf",
        "colab_type": "code",
        "colab": {}
      },
      "source": [
        "model_rms = keras.Sequential([\n",
        "    keras.layers.Flatten(input_shape=(28, 28)),   #Convert the 60,000 x 28 x 28 to 60,000 x 784\n",
        "    keras.layers.Dense(128, activation='relu'),\n",
        "    keras.layers.Dense(10)\n",
        "])\n",
        "\n",
        "model_nag = keras.Sequential([\n",
        "    keras.layers.Flatten(input_shape=(28, 28)),   #Convert the 60,000 x 28 x 28 to 60,000 x 784\n",
        "    keras.layers.Dense(128, activation='relu'),\n",
        "    keras.layers.Dense(10)\n",
        "])\n",
        "\n",
        "model_adagrad = keras.Sequential([\n",
        "    keras.layers.Flatten(input_shape=(28, 28)),   #Convert the 60,000 x 28 x 28 to 60,000 x 784\n",
        "    keras.layers.Dense(128, activation='relu'),\n",
        "    keras.layers.Dense(10)\n",
        "])\n",
        "\n",
        "model_adadelta = keras.Sequential([\n",
        "    keras.layers.Flatten(input_shape=(28, 28)),   #Convert the 60,000 x 28 x 28 to 60,000 x 784\n",
        "    keras.layers.Dense(128, activation='relu'),\n",
        "    keras.layers.Dense(10)\n",
        "])\n",
        "\n",
        "model_adam = keras.Sequential([\n",
        "    keras.layers.Flatten(input_shape=(28, 28)),   #Convert the 60,000 x 28 x 28 to 60,000 x 784\n",
        "    keras.layers.Dense(128, activation='relu'),\n",
        "    keras.layers.Dense(10)\n",
        "])\n",
        "\n",
        "model_mgd = keras.Sequential([\n",
        "    keras.layers.Flatten(input_shape=(28, 28)),   #Convert the 60,000 x 28 x 28 to 60,000 x 784\n",
        "    keras.layers.Dense(128, activation='relu'),\n",
        "    keras.layers.Dense(10)\n",
        "])"
      ],
      "execution_count": 13,
      "outputs": []
    },
    {
      "cell_type": "markdown",
      "metadata": {
        "id": "vA492NL18Xss",
        "colab_type": "text"
      },
      "source": [
        "#### 4.2 Compile the model"
      ]
    },
    {
      "cell_type": "markdown",
      "metadata": {
        "id": "scVR6k3JK4GK",
        "colab_type": "text"
      },
      "source": [
        "##### 4.2.1 RMSProp"
      ]
    },
    {
      "cell_type": "code",
      "metadata": {
        "id": "85bt-RiqLP0o",
        "colab_type": "code",
        "colab": {}
      },
      "source": [
        "model_rms.compile(optimizer='rmsprop',\n",
        "              loss=tf.keras.losses.SparseCategoricalCrossentropy(from_logits=True),\n",
        "              metrics=['accuracy'])"
      ],
      "execution_count": 14,
      "outputs": []
    },
    {
      "cell_type": "markdown",
      "metadata": {
        "id": "Z4zFtww9K_2y",
        "colab_type": "text"
      },
      "source": [
        "##### 4.2.2 NAG"
      ]
    },
    {
      "cell_type": "code",
      "metadata": {
        "id": "xavqeMdXLkq6",
        "colab_type": "code",
        "colab": {}
      },
      "source": [
        "model_nag.compile(optimizer='nadam',\n",
        "              loss=tf.keras.losses.SparseCategoricalCrossentropy(from_logits=True),\n",
        "              metrics=['accuracy'])"
      ],
      "execution_count": 15,
      "outputs": []
    },
    {
      "cell_type": "markdown",
      "metadata": {
        "id": "yC2tQpVhLCsx",
        "colab_type": "text"
      },
      "source": [
        "##### 4.2.3 AdaGrad"
      ]
    },
    {
      "cell_type": "code",
      "metadata": {
        "id": "-D6LkuS-LMeQ",
        "colab_type": "code",
        "colab": {}
      },
      "source": [
        "model_adagrad.compile(optimizer='adagrad',\n",
        "              loss=tf.keras.losses.SparseCategoricalCrossentropy(from_logits=True),\n",
        "              metrics=['accuracy'])"
      ],
      "execution_count": 16,
      "outputs": []
    },
    {
      "cell_type": "markdown",
      "metadata": {
        "id": "bBFJKnn5LGcG",
        "colab_type": "text"
      },
      "source": [
        "##### 4.2.4 AdaDelta"
      ]
    },
    {
      "cell_type": "code",
      "metadata": {
        "id": "cPYn0KPBLJlv",
        "colab_type": "code",
        "colab": {}
      },
      "source": [
        "model_adadelta.compile(optimizer='adadelta',\n",
        "              loss=tf.keras.losses.SparseCategoricalCrossentropy(from_logits=True),\n",
        "              metrics=['accuracy'])"
      ],
      "execution_count": 17,
      "outputs": []
    },
    {
      "cell_type": "markdown",
      "metadata": {
        "id": "sUu2lZbMLKSY",
        "colab_type": "text"
      },
      "source": [
        "##### 4.2.5 Adam"
      ]
    },
    {
      "cell_type": "code",
      "metadata": {
        "id": "9pNKjHjQLE8x",
        "colab_type": "code",
        "colab": {}
      },
      "source": [
        "model_adam.compile(optimizer='adam',\n",
        "              loss=tf.keras.losses.SparseCategoricalCrossentropy(from_logits=True),\n",
        "              metrics=['accuracy'])"
      ],
      "execution_count": 18,
      "outputs": []
    },
    {
      "cell_type": "markdown",
      "metadata": {
        "id": "9oAhYWdoLM0F",
        "colab_type": "text"
      },
      "source": [
        "##### 4.2.6 Momentum gradient descent"
      ]
    },
    {
      "cell_type": "code",
      "metadata": {
        "id": "TLeqaMKULBto",
        "colab_type": "code",
        "colab": {}
      },
      "source": [
        "model_mgd.compile(optimizer='sgd',\n",
        "              loss=tf.keras.losses.SparseCategoricalCrossentropy(from_logits=True),\n",
        "              metrics=['accuracy'])"
      ],
      "execution_count": 19,
      "outputs": []
    },
    {
      "cell_type": "markdown",
      "metadata": {
        "id": "KjduMvwH8xvF",
        "colab_type": "text"
      },
      "source": [
        "## 5. Train the Model"
      ]
    },
    {
      "cell_type": "markdown",
      "metadata": {
        "id": "0IippiUV81gu",
        "colab_type": "text"
      },
      "source": [
        "#### 5.1 Feed the model"
      ]
    },
    {
      "cell_type": "markdown",
      "metadata": {
        "id": "VaBtW3VGRswe",
        "colab_type": "text"
      },
      "source": [
        "##### 5.1.1 RMSProp"
      ]
    },
    {
      "cell_type": "code",
      "metadata": {
        "id": "foz5aIiQSYBk",
        "colab_type": "code",
        "colab": {
          "base_uri": "https://localhost:8080/",
          "height": 364
        },
        "outputId": "429c6cbb-f318-411f-b475-d438a4788564"
      },
      "source": [
        "history_rms = model_rms.fit(train_images, train_labels, epochs=10, batch_size=500)"
      ],
      "execution_count": 20,
      "outputs": [
        {
          "output_type": "stream",
          "text": [
            "Epoch 1/10\n",
            "120/120 [==============================] - 1s 8ms/step - loss: 0.7600 - accuracy: 0.7437\n",
            "Epoch 2/10\n",
            "120/120 [==============================] - 1s 8ms/step - loss: 0.5111 - accuracy: 0.8199\n",
            "Epoch 3/10\n",
            "120/120 [==============================] - 1s 8ms/step - loss: 0.4481 - accuracy: 0.8434\n",
            "Epoch 4/10\n",
            "120/120 [==============================] - 1s 8ms/step - loss: 0.4143 - accuracy: 0.8536\n",
            "Epoch 5/10\n",
            "120/120 [==============================] - 1s 8ms/step - loss: 0.3870 - accuracy: 0.8605\n",
            "Epoch 6/10\n",
            "120/120 [==============================] - 1s 8ms/step - loss: 0.3665 - accuracy: 0.8688\n",
            "Epoch 7/10\n",
            "120/120 [==============================] - 1s 8ms/step - loss: 0.3477 - accuracy: 0.8750\n",
            "Epoch 8/10\n",
            "120/120 [==============================] - 1s 8ms/step - loss: 0.3351 - accuracy: 0.8786\n",
            "Epoch 9/10\n",
            "120/120 [==============================] - 1s 8ms/step - loss: 0.3234 - accuracy: 0.8835\n",
            "Epoch 10/10\n",
            "120/120 [==============================] - 1s 8ms/step - loss: 0.3145 - accuracy: 0.8855\n"
          ],
          "name": "stdout"
        }
      ]
    },
    {
      "cell_type": "markdown",
      "metadata": {
        "id": "fpCrv9n4SYYl",
        "colab_type": "text"
      },
      "source": [
        "##### 5.1.2 NAG"
      ]
    },
    {
      "cell_type": "code",
      "metadata": {
        "id": "s8mjbsw9SaOL",
        "colab_type": "code",
        "colab": {
          "base_uri": "https://localhost:8080/",
          "height": 364
        },
        "outputId": "c2c0a2fd-fb08-4a8a-93b2-ee955a379936"
      },
      "source": [
        "history_nag = model_nag.fit(train_images, train_labels, epochs=10, batch_size=500)"
      ],
      "execution_count": 21,
      "outputs": [
        {
          "output_type": "stream",
          "text": [
            "Epoch 1/10\n",
            "120/120 [==============================] - 1s 8ms/step - loss: 0.7181 - accuracy: 0.7611\n",
            "Epoch 2/10\n",
            "120/120 [==============================] - 1s 9ms/step - loss: 0.4722 - accuracy: 0.8357\n",
            "Epoch 3/10\n",
            "120/120 [==============================] - 1s 9ms/step - loss: 0.4193 - accuracy: 0.8540\n",
            "Epoch 4/10\n",
            "120/120 [==============================] - 1s 9ms/step - loss: 0.3906 - accuracy: 0.8623\n",
            "Epoch 5/10\n",
            "120/120 [==============================] - 1s 9ms/step - loss: 0.3687 - accuracy: 0.8699\n",
            "Epoch 6/10\n",
            "120/120 [==============================] - 1s 9ms/step - loss: 0.3516 - accuracy: 0.8755\n",
            "Epoch 7/10\n",
            "120/120 [==============================] - 1s 9ms/step - loss: 0.3381 - accuracy: 0.8796\n",
            "Epoch 8/10\n",
            "120/120 [==============================] - 1s 9ms/step - loss: 0.3222 - accuracy: 0.8849\n",
            "Epoch 9/10\n",
            "120/120 [==============================] - 1s 9ms/step - loss: 0.3128 - accuracy: 0.8882\n",
            "Epoch 10/10\n",
            "120/120 [==============================] - 1s 9ms/step - loss: 0.3046 - accuracy: 0.8899\n"
          ],
          "name": "stdout"
        }
      ]
    },
    {
      "cell_type": "markdown",
      "metadata": {
        "id": "M6oOv8QeSauB",
        "colab_type": "text"
      },
      "source": [
        "##### 5.1.3 AdaGrad"
      ]
    },
    {
      "cell_type": "code",
      "metadata": {
        "id": "tQsWhI4_Sc7R",
        "colab_type": "code",
        "colab": {
          "base_uri": "https://localhost:8080/",
          "height": 364
        },
        "outputId": "e47cbaf4-b139-4a62-b43c-b22a3e86cbee"
      },
      "source": [
        "history_adagrad = model_adagrad.fit(train_images, train_labels, epochs=10, batch_size=500)"
      ],
      "execution_count": 22,
      "outputs": [
        {
          "output_type": "stream",
          "text": [
            "Epoch 1/10\n",
            "120/120 [==============================] - 1s 7ms/step - loss: 2.0267 - accuracy: 0.3159\n",
            "Epoch 2/10\n",
            "120/120 [==============================] - 1s 7ms/step - loss: 1.5931 - accuracy: 0.5704\n",
            "Epoch 3/10\n",
            "120/120 [==============================] - 1s 7ms/step - loss: 1.3464 - accuracy: 0.6283\n",
            "Epoch 4/10\n",
            "120/120 [==============================] - 1s 7ms/step - loss: 1.1949 - accuracy: 0.6549\n",
            "Epoch 5/10\n",
            "120/120 [==============================] - 1s 7ms/step - loss: 1.0935 - accuracy: 0.6704\n",
            "Epoch 6/10\n",
            "120/120 [==============================] - 1s 7ms/step - loss: 1.0204 - accuracy: 0.6829\n",
            "Epoch 7/10\n",
            "120/120 [==============================] - 1s 7ms/step - loss: 0.9652 - accuracy: 0.6944\n",
            "Epoch 8/10\n",
            "120/120 [==============================] - 1s 7ms/step - loss: 0.9219 - accuracy: 0.7045\n",
            "Epoch 9/10\n",
            "120/120 [==============================] - 1s 7ms/step - loss: 0.8868 - accuracy: 0.7132\n",
            "Epoch 10/10\n",
            "120/120 [==============================] - 1s 7ms/step - loss: 0.8576 - accuracy: 0.7232\n"
          ],
          "name": "stdout"
        }
      ]
    },
    {
      "cell_type": "markdown",
      "metadata": {
        "id": "aayIN5DNSdZ-",
        "colab_type": "text"
      },
      "source": [
        "##### 5.1.4 AdaDelta"
      ]
    },
    {
      "cell_type": "code",
      "metadata": {
        "id": "mhDH9OfhSfXH",
        "colab_type": "code",
        "colab": {
          "base_uri": "https://localhost:8080/",
          "height": 364
        },
        "outputId": "4df7ba17-74ad-418e-fd04-d925d006cc8e"
      },
      "source": [
        "history_adadelta = model_adadelta.fit(train_images, train_labels, epochs=10, batch_size=500)"
      ],
      "execution_count": 23,
      "outputs": [
        {
          "output_type": "stream",
          "text": [
            "Epoch 1/10\n",
            "120/120 [==============================] - 1s 7ms/step - loss: 2.4467 - accuracy: 0.0846\n",
            "Epoch 2/10\n",
            "120/120 [==============================] - 1s 7ms/step - loss: 2.3795 - accuracy: 0.1026\n",
            "Epoch 3/10\n",
            "120/120 [==============================] - 1s 7ms/step - loss: 2.3150 - accuracy: 0.1250\n",
            "Epoch 4/10\n",
            "120/120 [==============================] - 1s 7ms/step - loss: 2.2529 - accuracy: 0.1523\n",
            "Epoch 5/10\n",
            "120/120 [==============================] - 1s 7ms/step - loss: 2.1930 - accuracy: 0.1855\n",
            "Epoch 6/10\n",
            "120/120 [==============================] - 1s 7ms/step - loss: 2.1350 - accuracy: 0.2268\n",
            "Epoch 7/10\n",
            "120/120 [==============================] - 1s 7ms/step - loss: 2.0789 - accuracy: 0.2695\n",
            "Epoch 8/10\n",
            "120/120 [==============================] - 1s 7ms/step - loss: 2.0243 - accuracy: 0.3133\n",
            "Epoch 9/10\n",
            "120/120 [==============================] - 1s 7ms/step - loss: 1.9714 - accuracy: 0.3567\n",
            "Epoch 10/10\n",
            "120/120 [==============================] - 1s 7ms/step - loss: 1.9206 - accuracy: 0.4016\n"
          ],
          "name": "stdout"
        }
      ]
    },
    {
      "cell_type": "markdown",
      "metadata": {
        "id": "eN7MoE1jSgMl",
        "colab_type": "text"
      },
      "source": [
        "##### 5.1.5 Adam"
      ]
    },
    {
      "cell_type": "code",
      "metadata": {
        "id": "qbXFWGbwSh1u",
        "colab_type": "code",
        "colab": {
          "base_uri": "https://localhost:8080/",
          "height": 364
        },
        "outputId": "f6a0f96d-a181-4060-812e-377e634f7cab"
      },
      "source": [
        "history_adam = model_adam.fit(train_images, train_labels, epochs=10, batch_size=500)"
      ],
      "execution_count": 24,
      "outputs": [
        {
          "output_type": "stream",
          "text": [
            "Epoch 1/10\n",
            "120/120 [==============================] - 1s 7ms/step - loss: 0.6991 - accuracy: 0.7658\n",
            "Epoch 2/10\n",
            "120/120 [==============================] - 1s 7ms/step - loss: 0.4619 - accuracy: 0.8420\n",
            "Epoch 3/10\n",
            "120/120 [==============================] - 1s 7ms/step - loss: 0.4178 - accuracy: 0.8568\n",
            "Epoch 4/10\n",
            "120/120 [==============================] - 1s 7ms/step - loss: 0.3916 - accuracy: 0.8649\n",
            "Epoch 5/10\n",
            "120/120 [==============================] - 1s 7ms/step - loss: 0.3673 - accuracy: 0.8719\n",
            "Epoch 6/10\n",
            "120/120 [==============================] - 1s 7ms/step - loss: 0.3522 - accuracy: 0.8765\n",
            "Epoch 7/10\n",
            "120/120 [==============================] - 1s 7ms/step - loss: 0.3391 - accuracy: 0.8805\n",
            "Epoch 8/10\n",
            "120/120 [==============================] - 1s 7ms/step - loss: 0.3339 - accuracy: 0.8811\n",
            "Epoch 9/10\n",
            "120/120 [==============================] - 1s 8ms/step - loss: 0.3179 - accuracy: 0.8867\n",
            "Epoch 10/10\n",
            "120/120 [==============================] - 1s 7ms/step - loss: 0.3087 - accuracy: 0.8912\n"
          ],
          "name": "stdout"
        }
      ]
    },
    {
      "cell_type": "markdown",
      "metadata": {
        "id": "46etUzxMSiRQ",
        "colab_type": "text"
      },
      "source": [
        "##### 5.1.6 Momentum Gradient Descent"
      ]
    },
    {
      "cell_type": "code",
      "metadata": {
        "id": "aaAiAmmASlnD",
        "colab_type": "code",
        "colab": {
          "base_uri": "https://localhost:8080/",
          "height": 364
        },
        "outputId": "cc545c1a-12cc-4743-e73f-eb9982bac140"
      },
      "source": [
        "history_mgd = model_mgd.fit(train_images, train_labels, epochs=10, batch_size=500)"
      ],
      "execution_count": 25,
      "outputs": [
        {
          "output_type": "stream",
          "text": [
            "Epoch 1/10\n",
            "120/120 [==============================] - 1s 7ms/step - loss: 1.5609 - accuracy: 0.5362\n",
            "Epoch 2/10\n",
            "120/120 [==============================] - 1s 7ms/step - loss: 1.0255 - accuracy: 0.6857\n",
            "Epoch 3/10\n",
            "120/120 [==============================] - 1s 7ms/step - loss: 0.8668 - accuracy: 0.7224\n",
            "Epoch 4/10\n",
            "120/120 [==============================] - 1s 7ms/step - loss: 0.7852 - accuracy: 0.7483\n",
            "Epoch 5/10\n",
            "120/120 [==============================] - 1s 7ms/step - loss: 0.7321 - accuracy: 0.7651\n",
            "Epoch 6/10\n",
            "120/120 [==============================] - 1s 7ms/step - loss: 0.6937 - accuracy: 0.7756\n",
            "Epoch 7/10\n",
            "120/120 [==============================] - 1s 7ms/step - loss: 0.6642 - accuracy: 0.7847\n",
            "Epoch 8/10\n",
            "120/120 [==============================] - 1s 7ms/step - loss: 0.6404 - accuracy: 0.7922\n",
            "Epoch 9/10\n",
            "120/120 [==============================] - 1s 7ms/step - loss: 0.6209 - accuracy: 0.7975\n",
            "Epoch 10/10\n",
            "120/120 [==============================] - 1s 7ms/step - loss: 0.6045 - accuracy: 0.8023\n"
          ],
          "name": "stdout"
        }
      ]
    },
    {
      "cell_type": "markdown",
      "metadata": {
        "id": "xi5mmMb09FmT",
        "colab_type": "text"
      },
      "source": [
        "#### 5.2 Evaluate accuracy"
      ]
    },
    {
      "cell_type": "markdown",
      "metadata": {
        "colab_type": "text",
        "id": "WbhDBe9cUQQq"
      },
      "source": [
        "##### 5.2.1 RMSProp"
      ]
    },
    {
      "cell_type": "code",
      "metadata": {
        "id": "xHO1Wg31UR7S",
        "colab_type": "code",
        "colab": {
          "base_uri": "https://localhost:8080/",
          "height": 69
        },
        "outputId": "e9ca9c65-ab1a-459d-abbd-d303c93c8203"
      },
      "source": [
        "test_loss_rms, test_acc_rms = model_rms.evaluate(test_images,  test_labels, verbose=2)\n",
        "\n",
        "print('\\nTest accuracy (RMSProp optimizer):', test_acc_rms)"
      ],
      "execution_count": 26,
      "outputs": [
        {
          "output_type": "stream",
          "text": [
            "313/313 - 0s - loss: 0.3658 - accuracy: 0.8657\n",
            "\n",
            "Test accuracy (RMSProp optimizer): 0.8657000064849854\n"
          ],
          "name": "stdout"
        }
      ]
    },
    {
      "cell_type": "markdown",
      "metadata": {
        "colab_type": "text",
        "id": "r4lVXY16UQQs"
      },
      "source": [
        "##### 5.2.2 NAG"
      ]
    },
    {
      "cell_type": "code",
      "metadata": {
        "id": "lvBT2YyTUS9A",
        "colab_type": "code",
        "colab": {
          "base_uri": "https://localhost:8080/",
          "height": 69
        },
        "outputId": "3ee3ca35-1620-49bb-a90e-43f449be6739"
      },
      "source": [
        "test_loss_nag, test_acc_nag = model_nag.evaluate(test_images,  test_labels, verbose=2)\n",
        "\n",
        "print('\\nTest accuracy (NAG optimizer):', test_acc_nag)"
      ],
      "execution_count": 27,
      "outputs": [
        {
          "output_type": "stream",
          "text": [
            "313/313 - 0s - loss: 0.3591 - accuracy: 0.8721\n",
            "\n",
            "Test accuracy (NAG optimizer): 0.8720999956130981\n"
          ],
          "name": "stdout"
        }
      ]
    },
    {
      "cell_type": "markdown",
      "metadata": {
        "colab_type": "text",
        "id": "yy27Ea7sUQQt"
      },
      "source": [
        "##### 5.2.3 AdaGrad"
      ]
    },
    {
      "cell_type": "code",
      "metadata": {
        "id": "wdPsauIqUUKu",
        "colab_type": "code",
        "colab": {
          "base_uri": "https://localhost:8080/",
          "height": 69
        },
        "outputId": "b72f0c0e-d49d-4b47-ee10-3400f5e86bbe"
      },
      "source": [
        "test_loss_adagrad, test_acc_adagrad = model_adagrad.evaluate(test_images,  test_labels, verbose=2)\n",
        "\n",
        "print('\\nTest accuracy (AdaGrad optimizer):', test_acc_adagrad)"
      ],
      "execution_count": 28,
      "outputs": [
        {
          "output_type": "stream",
          "text": [
            "313/313 - 0s - loss: 0.8597 - accuracy: 0.7127\n",
            "\n",
            "Test accuracy (AdaGrad optimizer): 0.7127000093460083\n"
          ],
          "name": "stdout"
        }
      ]
    },
    {
      "cell_type": "markdown",
      "metadata": {
        "colab_type": "text",
        "id": "s6EPeCqnUQQu"
      },
      "source": [
        "##### 5.2.4 AdaDelta"
      ]
    },
    {
      "cell_type": "code",
      "metadata": {
        "id": "_pl9hxI_UVMy",
        "colab_type": "code",
        "colab": {
          "base_uri": "https://localhost:8080/",
          "height": 69
        },
        "outputId": "90ec5429-2cbf-46e1-a8c8-c53a859b1601"
      },
      "source": [
        "test_loss_adadelta, test_acc_adadelta = model_adadelta.evaluate(test_images,  test_labels, verbose=2)\n",
        "\n",
        "print('\\nTest accuracy (AdaDelta optimizer):', test_acc_adadelta)"
      ],
      "execution_count": 29,
      "outputs": [
        {
          "output_type": "stream",
          "text": [
            "313/313 - 0s - loss: 1.8975 - accuracy: 0.4203\n",
            "\n",
            "Test accuracy (AdaDelta optimizer): 0.4203000068664551\n"
          ],
          "name": "stdout"
        }
      ]
    },
    {
      "cell_type": "markdown",
      "metadata": {
        "colab_type": "text",
        "id": "M1TWYl0mUQQv"
      },
      "source": [
        "##### 5.2.5 Adam"
      ]
    },
    {
      "cell_type": "code",
      "metadata": {
        "id": "DhojMJbmUWj2",
        "colab_type": "code",
        "colab": {
          "base_uri": "https://localhost:8080/",
          "height": 69
        },
        "outputId": "2bf561b1-7d52-4ba0-9ea5-9eb378031286"
      },
      "source": [
        "test_loss_adam, test_acc_adam = model_adam.evaluate(test_images,  test_labels, verbose=2)\n",
        "\n",
        "print('\\nTest accuracy (Adam optimizer):', test_acc_adam)"
      ],
      "execution_count": 30,
      "outputs": [
        {
          "output_type": "stream",
          "text": [
            "313/313 - 0s - loss: 0.3637 - accuracy: 0.8705\n",
            "\n",
            "Test accuracy (Adam optimizer): 0.8705000281333923\n"
          ],
          "name": "stdout"
        }
      ]
    },
    {
      "cell_type": "markdown",
      "metadata": {
        "colab_type": "text",
        "id": "dMKWWLlfUQQv"
      },
      "source": [
        "##### 5.2.6 Momentum Gradient Descent"
      ]
    },
    {
      "cell_type": "code",
      "metadata": {
        "id": "nlqDTjrNUXwr",
        "colab_type": "code",
        "colab": {
          "base_uri": "https://localhost:8080/",
          "height": 69
        },
        "outputId": "73bea993-e0ff-47e1-ec92-913c1ef9e68e"
      },
      "source": [
        "test_loss_mgd, test_acc_mgd = model_mgd.evaluate(test_images,  test_labels, verbose=2)\n",
        "\n",
        "print('\\nTest accuracy (Momentum Gradient Descent optimizer):', test_acc_mgd)"
      ],
      "execution_count": 31,
      "outputs": [
        {
          "output_type": "stream",
          "text": [
            "313/313 - 0s - loss: 0.6201 - accuracy: 0.7923\n",
            "\n",
            "Test accuracy (Momentum Gradient Descent optimizer): 0.7922999858856201\n"
          ],
          "name": "stdout"
        }
      ]
    },
    {
      "cell_type": "markdown",
      "metadata": {
        "id": "QYf_MfPaVgoG",
        "colab_type": "text"
      },
      "source": [
        "## 6. Accuracy plots"
      ]
    },
    {
      "cell_type": "code",
      "metadata": {
        "id": "Ak5tBFgMLmtu",
        "colab_type": "code",
        "colab": {
          "base_uri": "https://localhost:8080/",
          "height": 513
        },
        "outputId": "f03653f0-345f-4e0d-bad1-b6eaeaab20e6"
      },
      "source": [
        "import matplotlib.pyplot as plt\n",
        "%matplotlib inline\n",
        "\n",
        "train_acc_rms = history_rms.history['accuracy']\n",
        "train_acc_nag = history_nag.history['accuracy']\n",
        "train_acc_adagrad = history_adagrad.history['accuracy']\n",
        "train_acc_adadelta = history_adadelta.history['accuracy']\n",
        "train_acc_adam = history_adam.history['accuracy']\n",
        "train_acc_mgd = history_mgd.history['accuracy']\n",
        "\n",
        "\n",
        "epochs = range(1, len(train_acc_rms) + 1)\n",
        "\n",
        "plt.figure(figsize=(8,8))\n",
        "\n",
        "plt.plot(epochs, train_acc_rms, label='RMSProp Accuracy')\n",
        "plt.plot(epochs, train_acc_nag, label='NAG Accuracy')\n",
        "plt.plot(epochs, train_acc_adagrad, label='AdaGrad Accuracy')\n",
        "plt.plot(epochs, train_acc_adadelta, label='AdaDelta Accuracy')\n",
        "plt.plot(epochs, train_acc_adam, label='Adam Accuracy')\n",
        "plt.plot(epochs, train_acc_mgd, label='Momentum Gradient Descent Accuracy')\n",
        "\n",
        "\n",
        "plt.title('Training Accuracy')\n",
        "plt.xlabel('Epochs')\n",
        "plt.ylabel('Accuracy')\n",
        "\n",
        "plt.legend(['RMSProp', 'NAG', 'AdaGrad', 'AdaDelta', 'Adam', 'MGD'], loc='lower right')\n",
        "plt.show()"
      ],
      "execution_count": 34,
      "outputs": [
        {
          "output_type": "display_data",
          "data": {
            "image/png": "[encoded data removed]",
            "text/plain": [
              "<Figure size 576x576 with 1 Axes>"
            ]
          },
          "metadata": {
            "tags": [],
            "needs_background": "light"
          }
        }
      ]
    },
    {
      "cell_type": "code",
      "metadata": {
        "id": "LAoTyslbq4Xv",
        "colab_type": "code",
        "colab": {}
      },
      "source": [
        ""
      ],
      "execution_count": null,
      "outputs": []
    }
  ]
}