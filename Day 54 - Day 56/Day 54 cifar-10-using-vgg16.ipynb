{
 "cells": [
  {
   "cell_type": "code",
   "execution_count": 1,
   "metadata": {
    "_cell_guid": "b1076dfc-b9ad-4769-8c92-a6c4dae69d19",
    "_uuid": "8f2839f25d086af736a60e9eeb907d3b93b6e0e5",
    "execution": {
     "iopub.execute_input": "2020-10-18T13:28:52.065399Z",
     "iopub.status.busy": "2020-10-18T13:28:52.064664Z",
     "iopub.status.idle": "2020-10-18T13:28:52.067763Z",
     "shell.execute_reply": "2020-10-18T13:28:52.067254Z"
    },
    "papermill": {
     "duration": 0.019406,
     "end_time": "2020-10-18T13:28:52.067864",
     "exception": false,
     "start_time": "2020-10-18T13:28:52.048458",
     "status": "completed"
    },
    "tags": []
   },
   "outputs": [],
   "source": [
    "# This Python 3 environment comes with many helpful analytics libraries installed\n",
    "# It is defined by the kaggle/python Docker image: https://github.com/kaggle/docker-python\n",
    "# For example, here's several helpful packages to load\n",
    "\n",
    "import numpy as np # linear algebra\n",
    "import pandas as pd # data processing, CSV file I/O (e.g. pd.read_csv)\n",
    "\n",
    "# Input data files are available in the read-only \"../input/\" directory\n",
    "# For example, running this (by clicking run or pressing Shift+Enter) will list all files under the input directory\n",
    "\n",
    "import os\n",
    "for dirname, _, filenames in os.walk('/kaggle/input'):\n",
    "    for filename in filenames:\n",
    "        print(os.path.join(dirname, filename))\n",
    "\n",
    "# You can write up to 5GB to the current directory (/kaggle/working/) that gets preserved as output when you create a version using \"Save & Run All\" \n",
    "# You can also write temporary files to /kaggle/temp/, but they won't be saved outside of the current session"
   ]
  },
  {
   "cell_type": "code",
   "execution_count": 2,
   "metadata": {
    "_cell_guid": "79c7e3d0-c299-4dcb-8224-4455121ee9b0",
    "_uuid": "d629ff2d2480ee46fbb7e2d37f6b5fab8052498a",
    "execution": {
     "iopub.execute_input": "2020-10-18T13:28:52.094220Z",
     "iopub.status.busy": "2020-10-18T13:28:52.093624Z",
     "iopub.status.idle": "2020-10-18T13:28:56.749271Z",
     "shell.execute_reply": "2020-10-18T13:28:56.748424Z"
    },
    "papermill": {
     "duration": 4.671344,
     "end_time": "2020-10-18T13:28:56.749392",
     "exception": false,
     "start_time": "2020-10-18T13:28:52.078048",
     "status": "completed"
    },
    "tags": []
   },
   "outputs": [],
   "source": [
    "#------------------------------------------------------------------------------\n",
    "# VGG16 ON CIFAR_10\n",
    "#------------------------------------------------------------------------------\n",
    "import numpy as np\n",
    "from tensorflow.keras.applications.vgg16 import VGG16\n",
    "import tensorflow.keras as k\n",
    "from tensorflow.keras.models import Sequential\n",
    "from tensorflow.keras.layers import Dense, Flatten, Dropout\n",
    "from keras.utils.np_utils import to_categorical\n",
    "from tensorflow.keras import optimizers\n",
    "from tensorflow.keras.callbacks import ModelCheckpoint, EarlyStopping, LearningRateScheduler\n",
    "from tensorflow.keras.preprocessing.image import ImageDataGenerator\n",
    "from sklearn.metrics import accuracy_score"
   ]
  },
  {
   "cell_type": "code",
   "execution_count": 3,
   "metadata": {
    "execution": {
     "iopub.execute_input": "2020-10-18T13:28:56.777322Z",
     "iopub.status.busy": "2020-10-18T13:28:56.776584Z",
     "iopub.status.idle": "2020-10-18T13:29:00.249320Z",
     "shell.execute_reply": "2020-10-18T13:29:00.248013Z"
    },
    "papermill": {
     "duration": 3.489771,
     "end_time": "2020-10-18T13:29:00.249437",
     "exception": false,
     "start_time": "2020-10-18T13:28:56.759666",
     "status": "completed"
    },
    "tags": []
   },
   "outputs": [
    {
     "name": "stdout",
     "output_type": "stream",
     "text": [
      "Downloading data from https://storage.googleapis.com/tensorflow/keras-applications/vgg16/vgg16_weights_tf_dim_ordering_tf_kernels_notop.h5\n",
      "58892288/58889256 [==============================] - 1s 0us/step\n"
     ]
    }
   ],
   "source": [
    "#------------------------------------------------------------------------------\n",
    "# Using VGG16 model, with weights pre-trained on ImageNet.\n",
    "#------------------------------------------------------------------------------\n",
    "\n",
    "vgg16_model = VGG16(weights='imagenet',\n",
    "                    include_top=False, \n",
    "                    classes=10,\n",
    "                    input_shape=(32,32,3)# input: 32x32 images with 3 channels -> (32, 32, 3) tensors.\n",
    "                   )"
   ]
  },
  {
   "cell_type": "code",
   "execution_count": 4,
   "metadata": {
    "execution": {
     "iopub.execute_input": "2020-10-18T13:29:00.288465Z",
     "iopub.status.busy": "2020-10-18T13:29:00.287582Z",
     "iopub.status.idle": "2020-10-18T13:29:00.344600Z",
     "shell.execute_reply": "2020-10-18T13:29:00.344076Z"
    },
    "papermill": {
     "duration": 0.079529,
     "end_time": "2020-10-18T13:29:00.344700",
     "exception": false,
     "start_time": "2020-10-18T13:29:00.265171",
     "status": "completed"
    },
    "tags": []
   },
   "outputs": [],
   "source": [
    "#Define the sequential model and add th VGG's layers to it\n",
    "model = Sequential()\n",
    "for layer in vgg16_model.layers:\n",
    "    model.add(layer)"
   ]
  },
  {
   "cell_type": "code",
   "execution_count": 5,
   "metadata": {
    "execution": {
     "iopub.execute_input": "2020-10-18T13:29:00.383967Z",
     "iopub.status.busy": "2020-10-18T13:29:00.383241Z",
     "iopub.status.idle": "2020-10-18T13:29:00.455858Z",
     "shell.execute_reply": "2020-10-18T13:29:00.454874Z"
    },
    "papermill": {
     "duration": 0.095914,
     "end_time": "2020-10-18T13:29:00.456008",
     "exception": false,
     "start_time": "2020-10-18T13:29:00.360094",
     "status": "completed"
    },
    "tags": []
   },
   "outputs": [
    {
     "name": "stdout",
     "output_type": "stream",
     "text": [
      "Model: \"sequential\"\n",
      "_________________________________________________________________\n",
      "Layer (type)                 Output Shape              Param #   \n",
      "=================================================================\n",
      "block1_conv1 (Conv2D)        (None, 32, 32, 64)        1792      \n",
      "_________________________________________________________________\n",
      "block1_conv2 (Conv2D)        (None, 32, 32, 64)        36928     \n",
      "_________________________________________________________________\n",
      "block1_pool (MaxPooling2D)   (None, 16, 16, 64)        0         \n",
      "_________________________________________________________________\n",
      "block2_conv1 (Conv2D)        (None, 16, 16, 128)       73856     \n",
      "_________________________________________________________________\n",
      "block2_conv2 (Conv2D)        (None, 16, 16, 128)       147584    \n",
      "_________________________________________________________________\n",
      "block2_pool (MaxPooling2D)   (None, 8, 8, 128)         0         \n",
      "_________________________________________________________________\n",
      "block3_conv1 (Conv2D)        (None, 8, 8, 256)         295168    \n",
      "_________________________________________________________________\n",
      "block3_conv2 (Conv2D)        (None, 8, 8, 256)         590080    \n",
      "_________________________________________________________________\n",
      "block3_conv3 (Conv2D)        (None, 8, 8, 256)         590080    \n",
      "_________________________________________________________________\n",
      "block3_pool (MaxPooling2D)   (None, 4, 4, 256)         0         \n",
      "_________________________________________________________________\n",
      "block4_conv1 (Conv2D)        (None, 4, 4, 512)         1180160   \n",
      "_________________________________________________________________\n",
      "block4_conv2 (Conv2D)        (None, 4, 4, 512)         2359808   \n",
      "_________________________________________________________________\n",
      "block4_conv3 (Conv2D)        (None, 4, 4, 512)         2359808   \n",
      "_________________________________________________________________\n",
      "block4_pool (MaxPooling2D)   (None, 2, 2, 512)         0         \n",
      "_________________________________________________________________\n",
      "block5_conv1 (Conv2D)        (None, 2, 2, 512)         2359808   \n",
      "_________________________________________________________________\n",
      "block5_conv2 (Conv2D)        (None, 2, 2, 512)         2359808   \n",
      "_________________________________________________________________\n",
      "block5_conv3 (Conv2D)        (None, 2, 2, 512)         2359808   \n",
      "_________________________________________________________________\n",
      "block5_pool (MaxPooling2D)   (None, 1, 1, 512)         0         \n",
      "_________________________________________________________________\n",
      "flatten (Flatten)            (None, 512)               0         \n",
      "_________________________________________________________________\n",
      "hidden1 (Dense)              (None, 512)               262656    \n",
      "_________________________________________________________________\n",
      "dropout (Dropout)            (None, 512)               0         \n",
      "_________________________________________________________________\n",
      "hidden2 (Dense)              (None, 256)               131328    \n",
      "_________________________________________________________________\n",
      "dropout_1 (Dropout)          (None, 256)               0         \n",
      "_________________________________________________________________\n",
      "predictions (Dense)          (None, 10)                2570      \n",
      "=================================================================\n",
      "Total params: 15,111,242\n",
      "Trainable params: 15,111,242\n",
      "Non-trainable params: 0\n",
      "_________________________________________________________________\n"
     ]
    }
   ],
   "source": [
    "#------------------------------------------------------------------------------\n",
    "# Adding hiddens  and output layer to our model\n",
    "#------------------------------------------------------------------------------\n",
    "\n",
    "from tensorflow.keras.layers import Dense, Flatten, Dropout\n",
    "model.add(Flatten())\n",
    "model.add(Dense(512, activation='relu', name='hidden1'))\n",
    "model.add(Dropout(0.4))\n",
    "model.add(Dense(256, activation='relu', name='hidden2'))\n",
    "model.add(Dropout(0.4))\n",
    "model.add(Dense(10, activation='softmax', name='predictions'))\n",
    "\n",
    "model.summary()"
   ]
  },
  {
   "cell_type": "code",
   "execution_count": 6,
   "metadata": {
    "execution": {
     "iopub.execute_input": "2020-10-18T13:29:00.501593Z",
     "iopub.status.busy": "2020-10-18T13:29:00.494416Z",
     "iopub.status.idle": "2020-10-18T13:29:04.755385Z",
     "shell.execute_reply": "2020-10-18T13:29:04.754427Z"
    },
    "papermill": {
     "duration": 4.281561,
     "end_time": "2020-10-18T13:29:04.755500",
     "exception": false,
     "start_time": "2020-10-18T13:29:00.473939",
     "status": "completed"
    },
    "tags": []
   },
   "outputs": [
    {
     "name": "stdout",
     "output_type": "stream",
     "text": [
      "Downloading data from https://www.cs.toronto.edu/~kriz/cifar-10-python.tar.gz\n",
      "170500096/170498071 [==============================] - 2s 0us/step\n",
      "******************\n",
      "(50000, 32, 32, 3)\n",
      "(50000, 1)\n",
      "(10000, 32, 32, 3)\n",
      "(10000, 1)\n"
     ]
    }
   ],
   "source": [
    "#------------------------------------------------------------------------------\n",
    "#  Loading CIFAR10 data\n",
    "#------------------------------------------------------------------------------\n",
    "\n",
    "(X_train, y_train), (X_test, y_test) = k.datasets.cifar10.load_data()\n",
    "\n",
    "print(\"******************\")\n",
    "print(X_train.shape)\n",
    "print(y_train.shape)\n",
    "print(X_test.shape)\n",
    "print(y_test.shape)"
   ]
  },
  {
   "cell_type": "code",
   "execution_count": 7,
   "metadata": {
    "execution": {
     "iopub.execute_input": "2020-10-18T13:29:04.824347Z",
     "iopub.status.busy": "2020-10-18T13:29:04.823393Z",
     "iopub.status.idle": "2020-10-18T13:29:04.828404Z",
     "shell.execute_reply": "2020-10-18T13:29:04.828860Z"
    },
    "papermill": {
     "duration": 0.041432,
     "end_time": "2020-10-18T13:29:04.829008",
     "exception": false,
     "start_time": "2020-10-18T13:29:04.787576",
     "status": "completed"
    },
    "tags": []
   },
   "outputs": [],
   "source": [
    "# Convert class vectors to binary class matrices using one hot encoding\n",
    "y_train_ohe = to_categorical(y_train, num_classes = 10)\n",
    "y_test_ohe = to_categorical(y_test, num_classes = 10)"
   ]
  },
  {
   "cell_type": "code",
   "execution_count": 8,
   "metadata": {
    "execution": {
     "iopub.execute_input": "2020-10-18T13:29:04.899244Z",
     "iopub.status.busy": "2020-10-18T13:29:04.898045Z",
     "iopub.status.idle": "2020-10-18T13:29:05.152140Z",
     "shell.execute_reply": "2020-10-18T13:29:05.152821Z"
    },
    "papermill": {
     "duration": 0.29233,
     "end_time": "2020-10-18T13:29:05.153007",
     "exception": false,
     "start_time": "2020-10-18T13:29:04.860677",
     "status": "completed"
    },
    "tags": []
   },
   "outputs": [
    {
     "name": "stdout",
     "output_type": "stream",
     "text": [
      "******************\n",
      "(50000, 32, 32, 3)\n",
      "(50000, 10)\n",
      "(10000, 32, 32, 3)\n",
      "(10000, 10)\n"
     ]
    }
   ],
   "source": [
    "# Data normalization\n",
    "X_train = X_train.astype('float32')\n",
    "X_test = X_test.astype('float32')\n",
    "X_train  /= 255\n",
    "X_test /= 255\n",
    "\n",
    "print(\"******************\")\n",
    "print(X_train.shape)\n",
    "print(y_train_ohe.shape)\n",
    "print(X_test.shape)\n",
    "print(y_test_ohe.shape)"
   ]
  },
  {
   "cell_type": "code",
   "execution_count": 9,
   "metadata": {
    "execution": {
     "iopub.execute_input": "2020-10-18T13:29:05.224332Z",
     "iopub.status.busy": "2020-10-18T13:29:05.223593Z",
     "iopub.status.idle": "2020-10-18T13:29:05.227661Z",
     "shell.execute_reply": "2020-10-18T13:29:05.227173Z"
    },
    "papermill": {
     "duration": 0.041285,
     "end_time": "2020-10-18T13:29:05.227760",
     "exception": false,
     "start_time": "2020-10-18T13:29:05.186475",
     "status": "completed"
    },
    "tags": []
   },
   "outputs": [
    {
     "name": "stdout",
     "output_type": "stream",
     "text": [
      "(10000, 32, 32, 3)\n",
      "(10000, 10)\n"
     ]
    }
   ],
   "source": [
    "X_val = X_train[40000:]\n",
    "y_val = y_train_ohe[40000:]\n",
    "print(X_val.shape)\n",
    "print(y_val.shape)"
   ]
  },
  {
   "cell_type": "code",
   "execution_count": 10,
   "metadata": {
    "execution": {
     "iopub.execute_input": "2020-10-18T13:29:05.299105Z",
     "iopub.status.busy": "2020-10-18T13:29:05.298317Z",
     "iopub.status.idle": "2020-10-18T13:29:05.301942Z",
     "shell.execute_reply": "2020-10-18T13:29:05.302697Z"
    },
    "papermill": {
     "duration": 0.042203,
     "end_time": "2020-10-18T13:29:05.302843",
     "exception": false,
     "start_time": "2020-10-18T13:29:05.260640",
     "status": "completed"
    },
    "tags": []
   },
   "outputs": [
    {
     "name": "stdout",
     "output_type": "stream",
     "text": [
      "(40000, 32, 32, 3)\n",
      "(40000, 10)\n"
     ]
    }
   ],
   "source": [
    "X_train = X_train[:40000]\n",
    "y_train_ohe = y_train_ohe[:40000]\n",
    "print(X_train.shape)\n",
    "print(y_train_ohe.shape)"
   ]
  },
  {
   "cell_type": "code",
   "execution_count": 11,
   "metadata": {
    "execution": {
     "iopub.execute_input": "2020-10-18T13:29:05.387217Z",
     "iopub.status.busy": "2020-10-18T13:29:05.386358Z",
     "iopub.status.idle": "2020-10-18T14:18:33.267846Z",
     "shell.execute_reply": "2020-10-18T14:18:33.266285Z"
    },
    "papermill": {
     "duration": 2967.93107,
     "end_time": "2020-10-18T14:18:33.267973",
     "exception": false,
     "start_time": "2020-10-18T13:29:05.336903",
     "status": "completed"
    },
    "tags": []
   },
   "outputs": [
    {
     "name": "stdout",
     "output_type": "stream",
     "text": [
      "Epoch 1/100\n",
      "312/312 [==============================] - 29s 93ms/step - loss: 1.7531 - accuracy: 0.3643 - val_loss: 1.1418 - val_accuracy: 0.6065\n",
      "Epoch 2/100\n",
      "312/312 [==============================] - 28s 90ms/step - loss: 1.1858 - accuracy: 0.5907 - val_loss: 0.8224 - val_accuracy: 0.7158\n",
      "Epoch 3/100\n",
      "312/312 [==============================] - 28s 91ms/step - loss: 1.0019 - accuracy: 0.6596 - val_loss: 0.7157 - val_accuracy: 0.7532\n",
      "Epoch 4/100\n",
      "312/312 [==============================] - 29s 92ms/step - loss: 0.8972 - accuracy: 0.6985 - val_loss: 0.7813 - val_accuracy: 0.7373\n",
      "Epoch 5/100\n",
      "312/312 [==============================] - 30s 97ms/step - loss: 0.8283 - accuracy: 0.7210 - val_loss: 0.6785 - val_accuracy: 0.7717\n",
      "Epoch 6/100\n",
      "312/312 [==============================] - 29s 93ms/step - loss: 0.7752 - accuracy: 0.7419 - val_loss: 0.6069 - val_accuracy: 0.7931\n",
      "Epoch 7/100\n",
      "312/312 [==============================] - 31s 98ms/step - loss: 0.7455 - accuracy: 0.7503 - val_loss: 0.5669 - val_accuracy: 0.8049\n",
      "Epoch 8/100\n",
      "312/312 [==============================] - 30s 95ms/step - loss: 0.6919 - accuracy: 0.7681 - val_loss: 0.5998 - val_accuracy: 0.7948\n",
      "Epoch 9/100\n",
      "312/312 [==============================] - 31s 99ms/step - loss: 0.6673 - accuracy: 0.7752 - val_loss: 0.5149 - val_accuracy: 0.8249\n",
      "Epoch 10/100\n",
      "312/312 [==============================] - 29s 94ms/step - loss: 0.6395 - accuracy: 0.7857 - val_loss: 0.5306 - val_accuracy: 0.8170\n",
      "Epoch 11/100\n",
      "312/312 [==============================] - 31s 100ms/step - loss: 0.6215 - accuracy: 0.7924 - val_loss: 0.5082 - val_accuracy: 0.8276\n",
      "Epoch 12/100\n",
      "312/312 [==============================] - 29s 94ms/step - loss: 0.5935 - accuracy: 0.8023 - val_loss: 0.5415 - val_accuracy: 0.8206\n",
      "Epoch 13/100\n",
      "312/312 [==============================] - 30s 97ms/step - loss: 0.5770 - accuracy: 0.8078 - val_loss: 0.4840 - val_accuracy: 0.8344\n",
      "Epoch 14/100\n",
      "312/312 [==============================] - 30s 95ms/step - loss: 0.5608 - accuracy: 0.8115 - val_loss: 0.5185 - val_accuracy: 0.8261\n",
      "Epoch 15/100\n",
      "312/312 [==============================] - 31s 99ms/step - loss: 0.5450 - accuracy: 0.8188 - val_loss: 0.4780 - val_accuracy: 0.8416\n",
      "Epoch 16/100\n",
      "312/312 [==============================] - 31s 100ms/step - loss: 0.5294 - accuracy: 0.8230 - val_loss: 0.4747 - val_accuracy: 0.8427\n",
      "Epoch 17/100\n",
      "312/312 [==============================] - 33s 105ms/step - loss: 0.5134 - accuracy: 0.8277 - val_loss: 0.4892 - val_accuracy: 0.8383\n",
      "Epoch 18/100\n",
      "312/312 [==============================] - 32s 104ms/step - loss: 0.4942 - accuracy: 0.8341 - val_loss: 0.5012 - val_accuracy: 0.8329\n",
      "Epoch 19/100\n",
      "312/312 [==============================] - 30s 95ms/step - loss: 0.4914 - accuracy: 0.8350 - val_loss: 0.4686 - val_accuracy: 0.8438\n",
      "Epoch 20/100\n",
      "312/312 [==============================] - 31s 99ms/step - loss: 0.4729 - accuracy: 0.8429 - val_loss: 0.4513 - val_accuracy: 0.8509\n",
      "Epoch 21/100\n",
      "312/312 [==============================] - 31s 100ms/step - loss: 0.4226 - accuracy: 0.8598 - val_loss: 0.4192 - val_accuracy: 0.8587\n",
      "Epoch 22/100\n",
      "312/312 [==============================] - 32s 102ms/step - loss: 0.4185 - accuracy: 0.8590 - val_loss: 0.4218 - val_accuracy: 0.8607\n",
      "Epoch 23/100\n",
      "312/312 [==============================] - 31s 100ms/step - loss: 0.4090 - accuracy: 0.8642 - val_loss: 0.4112 - val_accuracy: 0.8627\n",
      "Epoch 24/100\n",
      "312/312 [==============================] - 33s 105ms/step - loss: 0.3991 - accuracy: 0.8657 - val_loss: 0.3895 - val_accuracy: 0.8721\n",
      "Epoch 25/100\n",
      "312/312 [==============================] - 32s 101ms/step - loss: 0.3954 - accuracy: 0.8679 - val_loss: 0.4184 - val_accuracy: 0.8626\n",
      "Epoch 26/100\n",
      "312/312 [==============================] - 32s 103ms/step - loss: 0.3910 - accuracy: 0.8682 - val_loss: 0.4017 - val_accuracy: 0.8692\n",
      "Epoch 27/100\n",
      "312/312 [==============================] - 32s 101ms/step - loss: 0.3829 - accuracy: 0.8720 - val_loss: 0.4039 - val_accuracy: 0.8694\n",
      "Epoch 28/100\n",
      "312/312 [==============================] - 35s 112ms/step - loss: 0.3824 - accuracy: 0.8713 - val_loss: 0.4311 - val_accuracy: 0.8559\n",
      "Epoch 29/100\n",
      "312/312 [==============================] - 34s 109ms/step - loss: 0.3734 - accuracy: 0.8759 - val_loss: 0.3775 - val_accuracy: 0.8754\n",
      "Epoch 30/100\n",
      "312/312 [==============================] - 35s 111ms/step - loss: 0.3722 - accuracy: 0.8749 - val_loss: 0.3853 - val_accuracy: 0.8747\n",
      "Epoch 31/100\n",
      "312/312 [==============================] - 29s 94ms/step - loss: 0.3627 - accuracy: 0.8778 - val_loss: 0.3804 - val_accuracy: 0.8739\n",
      "Epoch 32/100\n",
      "312/312 [==============================] - 33s 106ms/step - loss: 0.3526 - accuracy: 0.8808 - val_loss: 0.3841 - val_accuracy: 0.8766\n",
      "Epoch 33/100\n",
      "312/312 [==============================] - 29s 94ms/step - loss: 0.3513 - accuracy: 0.8825 - val_loss: 0.3917 - val_accuracy: 0.8741\n",
      "Epoch 34/100\n",
      "312/312 [==============================] - 32s 102ms/step - loss: 0.3514 - accuracy: 0.8833 - val_loss: 0.3791 - val_accuracy: 0.8766\n",
      "Epoch 35/100\n",
      "312/312 [==============================] - 30s 98ms/step - loss: 0.3443 - accuracy: 0.8843 - val_loss: 0.3833 - val_accuracy: 0.8747\n",
      "Epoch 36/100\n",
      "312/312 [==============================] - 32s 101ms/step - loss: 0.3365 - accuracy: 0.8854 - val_loss: 0.3790 - val_accuracy: 0.8771\n",
      "Epoch 37/100\n",
      "312/312 [==============================] - 28s 91ms/step - loss: 0.3371 - accuracy: 0.8862 - val_loss: 0.4578 - val_accuracy: 0.8557\n",
      "Epoch 38/100\n",
      "312/312 [==============================] - 30s 97ms/step - loss: 0.3333 - accuracy: 0.8882 - val_loss: 0.3755 - val_accuracy: 0.8761\n",
      "Epoch 39/100\n",
      "312/312 [==============================] - 28s 89ms/step - loss: 0.3293 - accuracy: 0.8894 - val_loss: 0.3847 - val_accuracy: 0.8761\n",
      "Epoch 40/100\n",
      "312/312 [==============================] - 28s 91ms/step - loss: 0.3211 - accuracy: 0.8926 - val_loss: 0.3940 - val_accuracy: 0.8753\n",
      "Epoch 41/100\n",
      "312/312 [==============================] - 29s 93ms/step - loss: 0.2987 - accuracy: 0.8987 - val_loss: 0.3827 - val_accuracy: 0.8790\n",
      "Epoch 42/100\n",
      "312/312 [==============================] - 28s 88ms/step - loss: 0.2927 - accuracy: 0.9023 - val_loss: 0.3813 - val_accuracy: 0.8773\n",
      "Epoch 43/100\n",
      "312/312 [==============================] - 29s 93ms/step - loss: 0.2861 - accuracy: 0.9035 - val_loss: 0.3955 - val_accuracy: 0.8756\n",
      "Epoch 44/100\n",
      "312/312 [==============================] - 28s 90ms/step - loss: 0.2882 - accuracy: 0.9031 - val_loss: 0.3639 - val_accuracy: 0.8811\n",
      "Epoch 45/100\n",
      "312/312 [==============================] - 30s 97ms/step - loss: 0.2822 - accuracy: 0.9040 - val_loss: 0.3791 - val_accuracy: 0.8815\n",
      "Epoch 46/100\n",
      "312/312 [==============================] - 28s 89ms/step - loss: 0.2787 - accuracy: 0.9073 - val_loss: 0.3675 - val_accuracy: 0.8843\n",
      "Epoch 47/100\n",
      "312/312 [==============================] - 27s 88ms/step - loss: 0.2749 - accuracy: 0.9081 - val_loss: 0.3862 - val_accuracy: 0.8802\n",
      "Epoch 48/100\n",
      "312/312 [==============================] - 31s 100ms/step - loss: 0.2750 - accuracy: 0.9081 - val_loss: 0.3846 - val_accuracy: 0.8812\n",
      "Epoch 49/100\n",
      "312/312 [==============================] - 27s 87ms/step - loss: 0.2697 - accuracy: 0.9102 - val_loss: 0.3835 - val_accuracy: 0.8821\n",
      "Epoch 50/100\n",
      "312/312 [==============================] - 33s 105ms/step - loss: 0.2680 - accuracy: 0.9093 - val_loss: 0.4160 - val_accuracy: 0.8753\n",
      "Epoch 51/100\n",
      "312/312 [==============================] - 28s 89ms/step - loss: 0.2655 - accuracy: 0.9098 - val_loss: 0.4092 - val_accuracy: 0.8754\n",
      "Epoch 52/100\n",
      "312/312 [==============================] - 32s 103ms/step - loss: 0.2657 - accuracy: 0.9105 - val_loss: 0.3712 - val_accuracy: 0.8848\n",
      "Epoch 53/100\n",
      "312/312 [==============================] - 27s 86ms/step - loss: 0.2606 - accuracy: 0.9121 - val_loss: 0.3907 - val_accuracy: 0.8792\n",
      "Epoch 54/100\n",
      "312/312 [==============================] - 28s 90ms/step - loss: 0.2614 - accuracy: 0.9127 - val_loss: 0.3838 - val_accuracy: 0.8838\n",
      "Epoch 55/100\n",
      "312/312 [==============================] - 32s 102ms/step - loss: 0.2571 - accuracy: 0.9127 - val_loss: 0.3778 - val_accuracy: 0.8799\n",
      "Epoch 56/100\n",
      "312/312 [==============================] - 29s 91ms/step - loss: 0.2606 - accuracy: 0.9131 - val_loss: 0.3853 - val_accuracy: 0.8838\n",
      "Epoch 57/100\n",
      "312/312 [==============================] - 31s 99ms/step - loss: 0.2517 - accuracy: 0.9149 - val_loss: 0.3859 - val_accuracy: 0.8812\n",
      "Epoch 58/100\n",
      "312/312 [==============================] - 28s 90ms/step - loss: 0.2473 - accuracy: 0.9173 - val_loss: 0.3794 - val_accuracy: 0.8840\n",
      "Epoch 59/100\n",
      "312/312 [==============================] - 29s 93ms/step - loss: 0.2475 - accuracy: 0.9160 - val_loss: 0.3916 - val_accuracy: 0.8810\n",
      "Epoch 60/100\n",
      "312/312 [==============================] - 30s 96ms/step - loss: 0.2502 - accuracy: 0.9162 - val_loss: 0.3910 - val_accuracy: 0.8791\n",
      "Epoch 61/100\n",
      "312/312 [==============================] - 28s 89ms/step - loss: 0.2378 - accuracy: 0.9191 - val_loss: 0.3788 - val_accuracy: 0.8852\n",
      "Epoch 62/100\n",
      "312/312 [==============================] - 33s 105ms/step - loss: 0.2305 - accuracy: 0.9212 - val_loss: 0.3858 - val_accuracy: 0.8853\n",
      "Epoch 63/100\n",
      "312/312 [==============================] - 27s 88ms/step - loss: 0.2320 - accuracy: 0.9214 - val_loss: 0.3805 - val_accuracy: 0.8867\n",
      "Epoch 64/100\n",
      "312/312 [==============================] - 33s 106ms/step - loss: 0.2248 - accuracy: 0.9235 - val_loss: 0.3762 - val_accuracy: 0.8887\n",
      "Epoch 65/100\n",
      "312/312 [==============================] - 28s 88ms/step - loss: 0.2254 - accuracy: 0.9242 - val_loss: 0.3779 - val_accuracy: 0.8887\n",
      "Epoch 66/100\n",
      "312/312 [==============================] - 28s 88ms/step - loss: 0.2195 - accuracy: 0.9254 - val_loss: 0.3848 - val_accuracy: 0.8869\n",
      "Epoch 67/100\n",
      "312/312 [==============================] - 31s 99ms/step - loss: 0.2235 - accuracy: 0.9252 - val_loss: 0.3908 - val_accuracy: 0.8834\n",
      "Epoch 68/100\n",
      "312/312 [==============================] - 27s 87ms/step - loss: 0.2195 - accuracy: 0.9270 - val_loss: 0.3912 - val_accuracy: 0.8845\n",
      "Epoch 69/100\n",
      "312/312 [==============================] - 32s 101ms/step - loss: 0.2189 - accuracy: 0.9259 - val_loss: 0.3966 - val_accuracy: 0.8814\n",
      "Epoch 70/100\n",
      "312/312 [==============================] - 28s 89ms/step - loss: 0.2149 - accuracy: 0.9279 - val_loss: 0.3774 - val_accuracy: 0.8887\n",
      "Epoch 71/100\n",
      "312/312 [==============================] - 27s 86ms/step - loss: 0.2170 - accuracy: 0.9267 - val_loss: 0.3844 - val_accuracy: 0.8875\n",
      "Epoch 72/100\n",
      "312/312 [==============================] - 33s 106ms/step - loss: 0.2206 - accuracy: 0.9266 - val_loss: 0.3907 - val_accuracy: 0.8866\n",
      "Epoch 73/100\n",
      "312/312 [==============================] - 27s 88ms/step - loss: 0.2201 - accuracy: 0.9270 - val_loss: 0.3863 - val_accuracy: 0.8871\n",
      "Epoch 74/100\n",
      "312/312 [==============================] - 33s 105ms/step - loss: 0.2129 - accuracy: 0.9266 - val_loss: 0.3829 - val_accuracy: 0.8867\n",
      "Epoch 75/100\n",
      "312/312 [==============================] - 27s 86ms/step - loss: 0.2131 - accuracy: 0.9272 - val_loss: 0.3781 - val_accuracy: 0.8891\n",
      "Epoch 76/100\n",
      "312/312 [==============================] - 28s 90ms/step - loss: 0.2156 - accuracy: 0.9260 - val_loss: 0.3914 - val_accuracy: 0.8849\n",
      "Epoch 77/100\n",
      "312/312 [==============================] - 32s 103ms/step - loss: 0.2098 - accuracy: 0.9284 - val_loss: 0.3873 - val_accuracy: 0.8866\n",
      "Epoch 78/100\n",
      "312/312 [==============================] - 27s 88ms/step - loss: 0.2113 - accuracy: 0.9293 - val_loss: 0.3809 - val_accuracy: 0.8885\n",
      "Epoch 79/100\n",
      "312/312 [==============================] - 32s 102ms/step - loss: 0.2071 - accuracy: 0.9304 - val_loss: 0.3875 - val_accuracy: 0.8850\n",
      "Epoch 80/100\n",
      "312/312 [==============================] - 26s 85ms/step - loss: 0.2113 - accuracy: 0.9277 - val_loss: 0.3946 - val_accuracy: 0.8844\n",
      "Epoch 81/100\n",
      "312/312 [==============================] - 26s 84ms/step - loss: 0.2014 - accuracy: 0.9329 - val_loss: 0.3762 - val_accuracy: 0.8886\n",
      "Epoch 82/100\n",
      "312/312 [==============================] - 32s 103ms/step - loss: 0.1990 - accuracy: 0.9329 - val_loss: 0.3899 - val_accuracy: 0.8876\n",
      "Epoch 83/100\n",
      "312/312 [==============================] - 26s 84ms/step - loss: 0.2014 - accuracy: 0.9334 - val_loss: 0.3878 - val_accuracy: 0.8864\n",
      "Epoch 84/100\n",
      "312/312 [==============================] - 30s 96ms/step - loss: 0.1934 - accuracy: 0.9346 - val_loss: 0.3782 - val_accuracy: 0.8871\n",
      "Epoch 85/100\n",
      "312/312 [==============================] - 28s 88ms/step - loss: 0.1961 - accuracy: 0.9339 - val_loss: 0.3935 - val_accuracy: 0.8863\n",
      "Epoch 86/100\n",
      "312/312 [==============================] - 26s 84ms/step - loss: 0.1959 - accuracy: 0.9343 - val_loss: 0.3896 - val_accuracy: 0.8863\n",
      "Epoch 87/100\n",
      "312/312 [==============================] - 27s 86ms/step - loss: 0.1983 - accuracy: 0.9338 - val_loss: 0.3821 - val_accuracy: 0.8873\n",
      "Epoch 88/100\n",
      "312/312 [==============================] - 26s 82ms/step - loss: 0.1968 - accuracy: 0.9341 - val_loss: 0.3902 - val_accuracy: 0.8850\n",
      "Epoch 89/100\n",
      "312/312 [==============================] - 31s 100ms/step - loss: 0.1936 - accuracy: 0.9359 - val_loss: 0.3886 - val_accuracy: 0.8869\n",
      "Epoch 90/100\n",
      "312/312 [==============================] - 27s 85ms/step - loss: 0.1942 - accuracy: 0.9341 - val_loss: 0.3887 - val_accuracy: 0.8880\n",
      "Epoch 91/100\n",
      "312/312 [==============================] - 26s 85ms/step - loss: 0.1904 - accuracy: 0.9359 - val_loss: 0.3874 - val_accuracy: 0.8884\n",
      "Epoch 92/100\n",
      "312/312 [==============================] - 26s 83ms/step - loss: 0.1900 - accuracy: 0.9358 - val_loss: 0.3921 - val_accuracy: 0.8847\n",
      "Epoch 93/100\n",
      "312/312 [==============================] - 26s 83ms/step - loss: 0.1940 - accuracy: 0.9359 - val_loss: 0.3864 - val_accuracy: 0.8880\n",
      "Epoch 94/100\n",
      "312/312 [==============================] - 31s 99ms/step - loss: 0.1921 - accuracy: 0.9359 - val_loss: 0.3834 - val_accuracy: 0.8877\n",
      "Epoch 95/100\n",
      "312/312 [==============================] - 26s 84ms/step - loss: 0.1869 - accuracy: 0.9368 - val_loss: 0.3868 - val_accuracy: 0.8862\n",
      "Epoch 96/100\n",
      "312/312 [==============================] - 27s 85ms/step - loss: 0.1886 - accuracy: 0.9366 - val_loss: 0.3795 - val_accuracy: 0.8889\n",
      "Epoch 97/100\n",
      "312/312 [==============================] - 26s 82ms/step - loss: 0.1959 - accuracy: 0.9354 - val_loss: 0.3772 - val_accuracy: 0.8884\n",
      "Epoch 98/100\n",
      "312/312 [==============================] - 27s 88ms/step - loss: 0.1899 - accuracy: 0.9349 - val_loss: 0.3949 - val_accuracy: 0.8867\n",
      "Epoch 99/100\n",
      "312/312 [==============================] - 31s 99ms/step - loss: 0.1906 - accuracy: 0.9359 - val_loss: 0.3991 - val_accuracy: 0.8853\n",
      "Epoch 100/100\n",
      "312/312 [==============================] - 27s 87ms/step - loss: 0.1933 - accuracy: 0.9353 - val_loss: 0.3877 - val_accuracy: 0.8857\n"
     ]
    }
   ],
   "source": [
    "#------------------------------------------------------------------------------\n",
    "# TRAINING THE CNN ON THE TRAIN/VALIDATION DATA\n",
    "#------------------------------------------------------------------------------\n",
    "\n",
    "# initiate SGD optimizer\n",
    "sgd = optimizers.SGD(lr=0.001, momentum=0.9)\n",
    "\n",
    "# For a multi-class classification problem\n",
    "model.compile(loss='categorical_crossentropy',optimizer= sgd,metrics=['accuracy'])\n",
    "\n",
    "\n",
    "def lr_scheduler(epoch):\n",
    "    return 0.001 * (0.5 ** (epoch // 20))\n",
    "reduce_lr = LearningRateScheduler(lr_scheduler)\n",
    "\n",
    "mc = ModelCheckpoint('./weights.h5', monitor='val_accuracy', save_best_only=True, mode='max')\n",
    "\n",
    "\n",
    "# initialize the number of epochs and batch size\n",
    "EPOCHS = 100\n",
    "BS = 128\n",
    "\n",
    "# construct the training image generator for data augmentation\n",
    "aug = ImageDataGenerator(\n",
    "    rotation_range=20, \n",
    "    zoom_range=0.15, \n",
    "    width_shift_range=0.2, \n",
    "    height_shift_range=0.2, \n",
    "    shear_range=0.15,\n",
    "    horizontal_flip=True, \n",
    "    fill_mode=\"nearest\")\n",
    " \n",
    "# train the model\n",
    "history = model.fit_generator(\n",
    "    aug.flow(X_train,y_train_ohe, batch_size=BS),\n",
    "    validation_data=(X_val,y_val),\n",
    "    steps_per_epoch=len(X_train) // BS,\n",
    "    epochs=EPOCHS,\n",
    "    callbacks=[reduce_lr,mc])\n",
    "\n",
    "#We load the best weights saved by the ModelCheckpoint\n",
    "model.load_weights('./weights.h5')"
   ]
  },
  {
   "cell_type": "code",
   "execution_count": 12,
   "metadata": {
    "execution": {
     "iopub.execute_input": "2020-10-18T14:18:54.743256Z",
     "iopub.status.busy": "2020-10-18T14:18:54.742271Z",
     "iopub.status.idle": "2020-10-18T14:19:05.567951Z",
     "shell.execute_reply": "2020-10-18T14:19:05.567039Z"
    },
    "papermill": {
     "duration": 21.563489,
     "end_time": "2020-10-18T14:19:05.568151",
     "exception": false,
     "start_time": "2020-10-18T14:18:44.004662",
     "status": "completed"
    },
    "tags": []
   },
   "outputs": [
    {
     "name": "stdout",
     "output_type": "stream",
     "text": [
      "Training loss: 0.18682584166526794\n",
      "Training accuracy: 0.9350961446762085\n"
     ]
    }
   ],
   "source": [
    "train_loss, train_accuracy = model.evaluate_generator(aug.flow(X_train,y_train_ohe, batch_size=BS), 156)\n",
    "print('Training loss: {}\\nTraining accuracy: {}'.format(train_loss, train_accuracy))"
   ]
  },
  {
   "cell_type": "code",
   "execution_count": 13,
   "metadata": {
    "execution": {
     "iopub.execute_input": "2020-10-18T14:19:27.767587Z",
     "iopub.status.busy": "2020-10-18T14:19:27.766648Z",
     "iopub.status.idle": "2020-10-18T14:19:30.213872Z",
     "shell.execute_reply": "2020-10-18T14:19:30.214569Z"
    },
    "papermill": {
     "duration": 13.137626,
     "end_time": "2020-10-18T14:19:30.214736",
     "exception": false,
     "start_time": "2020-10-18T14:19:17.077110",
     "status": "completed"
    },
    "tags": []
   },
   "outputs": [
    {
     "name": "stdout",
     "output_type": "stream",
     "text": [
      "313/313 [==============================] - 2s 7ms/step - loss: 0.3781 - accuracy: 0.8891\n",
      "Validation loss: 0.37810611724853516\n",
      "Validation accuracy: 0.8891000151634216\n"
     ]
    }
   ],
   "source": [
    "val_loss, val_accuracy = model.evaluate(X_val, y_val)\n",
    "print('Validation loss: {}\\nValidation accuracy: {}'.format(val_loss, val_accuracy))"
   ]
  },
  {
   "cell_type": "code",
   "execution_count": 14,
   "metadata": {
    "execution": {
     "iopub.execute_input": "2020-10-18T14:19:51.667992Z",
     "iopub.status.busy": "2020-10-18T14:19:51.667024Z",
     "iopub.status.idle": "2020-10-18T14:19:53.973487Z",
     "shell.execute_reply": "2020-10-18T14:19:53.972752Z"
    },
    "papermill": {
     "duration": 13.040427,
     "end_time": "2020-10-18T14:19:53.973648",
     "exception": false,
     "start_time": "2020-10-18T14:19:40.933221",
     "status": "completed"
    },
    "tags": []
   },
   "outputs": [
    {
     "name": "stdout",
     "output_type": "stream",
     "text": [
      "313/313 [==============================] - 2s 7ms/step - loss: 0.4016 - accuracy: 0.8821\n",
      "Testing loss: 0.40156564116477966\n",
      "Testing accuracy: 0.882099986076355\n"
     ]
    }
   ],
   "source": [
    "test_loss, test_accuracy = model.evaluate(X_test,y_test_ohe,)\n",
    "print('Testing loss: {}\\nTesting accuracy: {}'.format(test_loss, test_accuracy))"
   ]
  }
 ],
 "metadata": {
  "kernelspec": {
   "display_name": "Python 3",
   "language": "python",
   "name": "python3"
  },
  "language_info": {
   "codemirror_mode": {
    "name": "ipython",
    "version": 3
   },
   "file_extension": ".py",
   "mimetype": "text/x-python",
   "name": "python",
   "nbconvert_exporter": "python",
   "pygments_lexer": "ipython3",
   "version": "3.7.6"
  },
  "papermill": {
   "duration": 3078.945314,
   "end_time": "2020-10-18T14:20:07.271931",
   "environment_variables": {},
   "exception": null,
   "input_path": "__notebook__.ipynb",
   "output_path": "__notebook__.ipynb",
   "parameters": {},
   "start_time": "2020-10-18T13:28:48.326617",
   "version": "2.1.0"
  }
 },
 "nbformat": 4,
 "nbformat_minor": 4
}
